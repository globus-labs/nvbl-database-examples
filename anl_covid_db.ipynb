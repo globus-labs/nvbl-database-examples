{
 "cells": [
  {
   "cell_type": "markdown",
   "metadata": {},
   "source": [
    "## Argonne Covid Database\n",
    "\n",
    "This notebook will get you started with making requests to the Argonne Covid Database. You will need a few items to get started:\n",
    "\n",
    "1. A whitelisted IP\n",
    "    * Currently, only users from LLNL, Argonne, and BNL may make requests to this database.\n",
    "1. A user account\n",
    "    * You must ask for a user account before you can make queries.\n",
    "    \n",
    "The first few notebooks will ensure you can access the database. After that, you will be guided through a range of simple queries."
   ]
  },
  {
   "cell_type": "code",
   "execution_count": null,
   "metadata": {},
   "outputs": [],
   "source": [
    "import requests\n",
    "import json\n",
    "import urllib3\n",
    "import getpass\n",
    "import hashlib\n",
    "\n",
    "COVID_URL = 'https://covid-ws-01.alcf.anl.gov'\n",
    "RQARGS = {\n",
    "    # Connections are only available from select IP Addresses, timeout after a few seconds.\n",
    "    'timeout': 3,\n",
    "    # Certs are not yet setup for the above host\n",
    "    'verify': False\n",
    "}"
   ]
  },
  {
   "cell_type": "code",
   "execution_count": null,
   "metadata": {},
   "outputs": [],
   "source": [
    "try:\n",
    "    requests.get(COVID_URL, **RQARGS)\n",
    "    print('Connection Successful, please proceed')\n",
    "except requests.exceptions.Timeout:\n",
    "    print(f'Connection Failed, {COVID_URL} is only accessible '\n",
    "          'from select ip ranges at LLNL, Argonne, and BNL. Please try again using a different IP.')"
   ]
  },
  {
   "cell_type": "code",
   "execution_count": null,
   "metadata": {},
   "outputs": [],
   "source": [
    "payload = {\n",
    "    'email': input('Enter your email (EX: person@anl.gov) > '), \n",
    "    'password': getpass.getpass(),\n",
    "}\n",
    "token = ''\n",
    "response = requests.post(f'{COVID_URL}/rpc/login', data=payload, **RQARGS)\n",
    "if response != 200:\n",
    "    print(f'Login Failed with {payload[\"email\"]}: {response.json()[\"message\"]}')\n",
    "    print('Please send the message above to your administrator.')\n",
    "else:\n",
    "    print('Authentication Successful, you may now make requests to the database.')\n",
    "    token = response.json()[0]['token']\n",
    "headers = {'Authorization': f'bearer {token}'}"
   ]
  },
  {
   "cell_type": "code",
   "execution_count": null,
   "metadata": {},
   "outputs": [],
   "source": [
    "smile = \"\"\"CCC(COC(=O)C(NP(=O)(Oc1ccccc1)OCC1OC(C(C1O)O)(C#N)c1ccc2n1ncnc2N)C)CCCCN(CCCC(Nc1ccnc2c1ccc(c2)Cl)C)CCCC(=O)Oc1ccccc1C(=O)Nc1ncc(s1)[N+](=O)[O-]NC(=Nc1ccc(cc1)C(=O)Oc1ccc2c(c1)ccc(c2)C(=N)N)N\"\"\"\n",
    "params = {\n",
    "    'md5': 'eq.{}'.format(hashlib.md5(smile.encode()).hexdigest())\n",
    "}\n",
    "requests.post(f'{COVID_URL}/dup_m2k', params=params, headers=headers, **RQARGS).json()"
   ]
  },
  {
   "cell_type": "code",
   "execution_count": null,
   "metadata": {},
   "outputs": [],
   "source": []
  }
 ],
 "metadata": {
  "kernelspec": {
   "display_name": "Python 3",
   "language": "python",
   "name": "python3"
  },
  "language_info": {
   "codemirror_mode": {
    "name": "ipython",
    "version": 3
   },
   "file_extension": ".py",
   "mimetype": "text/x-python",
   "name": "python",
   "nbconvert_exporter": "python",
   "pygments_lexer": "ipython3",
   "version": "3.8.3"
  }
 },
 "nbformat": 4,
 "nbformat_minor": 4
}
