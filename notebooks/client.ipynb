{
 "cells": [
  {
   "cell_type": "code",
   "execution_count": 1,
   "metadata": {},
   "outputs": [],
   "source": [
    "from nvbl_client import NVBLClient\n",
    "from rdkit.Chem.Draw import IPythonConsole\n",
    "from rdkit import Chem"
   ]
  },
  {
   "cell_type": "markdown",
   "metadata": {},
   "source": [
    "# Instantiate the Client\n",
    "* This client can perform searches as long as the user is on an IP within the Argonne, LLNL, or BNL ranges.\n",
    "* To add data, authentication is required"
   ]
  },
  {
   "cell_type": "code",
   "execution_count": 2,
   "metadata": {},
   "outputs": [],
   "source": [
    "cl = NVBLClient()"
   ]
  },
  {
   "cell_type": "code",
   "execution_count": 4,
   "metadata": {},
   "outputs": [
    {
     "data": {
      "text/plain": [
       "{'key': ['OTMSDBZUPAUEDD-UHFFFAOYSA-N'],\n",
       " 'inchi': ['InChI=1S/C2H6/c1-2/h1-2H3'],\n",
       " 'id': ['chm:CHEMBL135626',\n",
       "  'g13:2',\n",
       "  'g17:369939',\n",
       "  'mcu:MCULE-8677953674',\n",
       "  'pch:PC-5981',\n",
       "  'qm9:7']}"
      ]
     },
     "execution_count": 4,
     "metadata": {},
     "output_type": "execute_result"
    }
   ],
   "source": [
    "res = cl.search_all('smiles', 'CC')\n",
    "res"
   ]
  },
  {
   "cell_type": "code",
   "execution_count": 5,
   "metadata": {},
   "outputs": [
    {
     "data": {
      "text/plain": [
       "{'key': ['OTMSDBZUPAUEDD-UHFFFAOYSA-N'],\n",
       " 'inchi': ['InChI=1S/C2H6/c1-2/h1-2H3'],\n",
       " 'id': ['chm:CHEMBL135626',\n",
       "  'g13:2',\n",
       "  'g17:369939',\n",
       "  'mcu:MCULE-8677953674',\n",
       "  'pch:PC-5981',\n",
       "  'qm9:7']}"
      ]
     },
     "execution_count": 5,
     "metadata": {},
     "output_type": "execute_result"
    }
   ],
   "source": [
    "res"
   ]
  },
  {
   "cell_type": "markdown",
   "metadata": {},
   "source": [
    "## Search for the `SMILES` string via `Key`"
   ]
  },
  {
   "cell_type": "code",
   "execution_count": 6,
   "metadata": {},
   "outputs": [],
   "source": [
    "keys = ['RWWYLEGWBNMMLJ-UHFFFAOYSA-N', 'MQQNFDZXWVTQEH-UHFFFAOYSA-N','JBPUGFODGPKTDW-UHFFFAOYSA-N']\n",
    "smiles = [cl.search('key','smiles',key)[0] for key in keys]"
   ]
  },
  {
   "cell_type": "code",
   "execution_count": 7,
   "metadata": {},
   "outputs": [
    {
     "data": {
      "image/png": "[encoded data removed]",
      "text/plain": [
       "<PIL.PngImagePlugin.PngImageFile image mode=RGB size=750x250 at 0x7FB735897B10>"
      ]
     },
     "execution_count": 7,
     "metadata": {},
     "output_type": "execute_result"
    }
   ],
   "source": [
    "mols = [Chem.MolFromSmiles(sm) for sm in smiles]\n",
    "Chem.Draw.MolsToGridImage(mols,molsPerRow=3, subImgSize=(250, 250))"
   ]
  },
  {
   "cell_type": "markdown",
   "metadata": {},
   "source": [
    "## Invert `SMILES` to `Key`"
   ]
  },
  {
   "cell_type": "code",
   "execution_count": 8,
   "metadata": {},
   "outputs": [
    {
     "data": {
      "text/plain": [
       "['RWWYLEGWBNMMLJ-UHFFFAOYSA-N',\n",
       " 'MQQNFDZXWVTQEH-UHFFFAOYSA-N',\n",
       " 'JBPUGFODGPKTDW-UHFFFAOYSA-N']"
      ]
     },
     "execution_count": 8,
     "metadata": {},
     "output_type": "execute_result"
    }
   ],
   "source": [
    "keys = [cl.search('smiles','key', sm)[0] for sm in smiles] \n",
    "keys"
   ]
  },
  {
   "cell_type": "markdown",
   "metadata": {},
   "source": [
    "# Fetch Swagger API JSON"
   ]
  },
  {
   "cell_type": "code",
   "execution_count": 9,
   "metadata": {},
   "outputs": [
    {
     "name": "stdout",
     "output_type": "stream",
     "text": [
      "https://covid-ws-01.alcf.anl.gov/\n"
     ]
    },
    {
     "data": {
      "text/plain": [
       "{'swagger': '2.0',\n",
       " 'info': {'version': '7.0.1 (UNKNOWN)',\n",
       "  'title': 'PostgREST API',\n",
       "  'description': 'This is a dynamic API generated by PostgREST'},\n",
       " 'host': '0.0.0.0:3000',\n",
       " 'basePath': '/',\n",
       " 'schemes': ['http'],\n",
       " 'consumes': ['application/json',\n",
       "  'application/vnd.pgrst.object+json',\n",
       "  'text/csv'],\n",
       " 'produces': ['application/json',\n",
       "  'application/vnd.pgrst.object+json',\n",
       "  'text/csv'],\n",
       " 'paths': {'/': {'get': {'tags': ['Introspection'],\n",
       "    'summary': 'OpenAPI description (this document)',\n",
       "    'produces': ['application/openapi+json', 'application/json'],\n",
       "    'responses': {'200': {'description': 'OK'}}}},\n",
       "  '/test': {'get': {'tags': ['test'],\n",
       "    'parameters': [{'$ref': '#/parameters/rowFilter.test.id'},\n",
       "     {'$ref': '#/parameters/rowFilter.test.file'},\n",
       "     {'$ref': '#/parameters/rowFilter.test.line'},\n",
       "     {'$ref': '#/parameters/select'},\n",
       "     {'$ref': '#/parameters/order'},\n",
       "     {'$ref': '#/parameters/range'},\n",
       "     {'$ref': '#/parameters/rangeUnit'},\n",
       "     {'$ref': '#/parameters/offset'},\n",
       "     {'$ref': '#/parameters/limit'},\n",
       "     {'$ref': '#/parameters/preferCount'}],\n",
       "    'responses': {'206': {'description': 'Partial Content'},\n",
       "     '200': {'schema': {'items': {'$ref': '#/definitions/test'},\n",
       "       'type': 'array'},\n",
       "      'description': 'OK'}}},\n",
       "   'post': {'tags': ['test'],\n",
       "    'parameters': [{'$ref': '#/parameters/body.test'},\n",
       "     {'$ref': '#/parameters/select'},\n",
       "     {'$ref': '#/parameters/preferReturn'}],\n",
       "    'responses': {'201': {'description': 'Created'}}},\n",
       "   'delete': {'tags': ['test'],\n",
       "    'parameters': [{'$ref': '#/parameters/rowFilter.test.id'},\n",
       "     {'$ref': '#/parameters/rowFilter.test.file'},\n",
       "     {'$ref': '#/parameters/rowFilter.test.line'},\n",
       "     {'$ref': '#/parameters/preferReturn'}],\n",
       "    'responses': {'204': {'description': 'No Content'}}},\n",
       "   'patch': {'tags': ['test'],\n",
       "    'parameters': [{'$ref': '#/parameters/rowFilter.test.id'},\n",
       "     {'$ref': '#/parameters/rowFilter.test.file'},\n",
       "     {'$ref': '#/parameters/rowFilter.test.line'},\n",
       "     {'$ref': '#/parameters/body.test'},\n",
       "     {'$ref': '#/parameters/preferReturn'}],\n",
       "    'responses': {'204': {'description': 'No Content'}}}},\n",
       "  '/whoami': {'get': {'tags': ['whoami'],\n",
       "    'parameters': [{'$ref': '#/parameters/rowFilter.whoami.current_user'},\n",
       "     {'$ref': '#/parameters/select'},\n",
       "     {'$ref': '#/parameters/order'},\n",
       "     {'$ref': '#/parameters/range'},\n",
       "     {'$ref': '#/parameters/rangeUnit'},\n",
       "     {'$ref': '#/parameters/offset'},\n",
       "     {'$ref': '#/parameters/limit'},\n",
       "     {'$ref': '#/parameters/preferCount'}],\n",
       "    'responses': {'206': {'description': 'Partial Content'},\n",
       "     '200': {'schema': {'items': {'$ref': '#/definitions/whoami'},\n",
       "       'type': 'array'},\n",
       "      'description': 'OK'}}}},\n",
       "  '/rpc/login': {'post': {'tags': ['(rpc) login'],\n",
       "    'produces': ['application/json', 'application/vnd.pgrst.object+json'],\n",
       "    'parameters': [{'required': True,\n",
       "      'schema': {'required': ['email', 'pass'],\n",
       "       'type': 'object',\n",
       "       'properties': {'email': {'format': 'text', 'type': 'string'},\n",
       "        'pass': {'format': 'text', 'type': 'string'}}},\n",
       "      'in': 'body',\n",
       "      'name': 'args'},\n",
       "     {'$ref': '#/parameters/preferParams'}],\n",
       "    'responses': {'200': {'description': 'OK'}}}},\n",
       "  '/rpc/inchi2inc': {'post': {'tags': ['(rpc) inchi2inc'],\n",
       "    'produces': ['application/json', 'application/vnd.pgrst.object+json'],\n",
       "    'parameters': [{'required': True,\n",
       "      'schema': {'required': ['input'],\n",
       "       'type': 'object',\n",
       "       'properties': {'input': {'format': 'character varying',\n",
       "         'type': 'string'}}},\n",
       "      'in': 'body',\n",
       "      'name': 'args'},\n",
       "     {'$ref': '#/parameters/preferParams'}],\n",
       "    'responses': {'200': {'description': 'OK'}}}},\n",
       "  '/rpc/key2inchi': {'post': {'tags': ['(rpc) key2inchi'],\n",
       "    'produces': ['application/json', 'application/vnd.pgrst.object+json'],\n",
       "    'parameters': [{'required': True,\n",
       "      'schema': {'required': ['input'],\n",
       "       'type': 'object',\n",
       "       'properties': {'input': {'format': 'character varying',\n",
       "         'type': 'string'}}},\n",
       "      'in': 'body',\n",
       "      'name': 'args'},\n",
       "     {'$ref': '#/parameters/preferParams'}],\n",
       "    'responses': {'200': {'description': 'OK'}}}},\n",
       "  '/rpc/key2id': {'post': {'tags': ['(rpc) key2id'],\n",
       "    'produces': ['application/json', 'application/vnd.pgrst.object+json'],\n",
       "    'parameters': [{'required': True,\n",
       "      'schema': {'required': ['input'],\n",
       "       'type': 'object',\n",
       "       'properties': {'input': {'format': 'character varying',\n",
       "         'type': 'string'}}},\n",
       "      'in': 'body',\n",
       "      'name': 'args'},\n",
       "     {'$ref': '#/parameters/preferParams'}],\n",
       "    'responses': {'200': {'description': 'OK'}}}},\n",
       "  '/rpc/key2smiles': {'post': {'tags': ['(rpc) key2smiles'],\n",
       "    'produces': ['application/json', 'application/vnd.pgrst.object+json'],\n",
       "    'parameters': [{'required': True,\n",
       "      'schema': {'required': ['input'],\n",
       "       'type': 'object',\n",
       "       'properties': {'input': {'format': 'character varying',\n",
       "         'type': 'string'}}},\n",
       "      'in': 'body',\n",
       "      'name': 'args'},\n",
       "     {'$ref': '#/parameters/preferParams'}],\n",
       "    'responses': {'200': {'description': 'OK'}}}},\n",
       "  '/rpc/inchi2key': {'post': {'tags': ['(rpc) inchi2key'],\n",
       "    'produces': ['application/json', 'application/vnd.pgrst.object+json'],\n",
       "    'parameters': [{'required': True,\n",
       "      'schema': {'required': ['input'],\n",
       "       'type': 'object',\n",
       "       'properties': {'input': {'format': 'character varying',\n",
       "         'type': 'string'}}},\n",
       "      'in': 'body',\n",
       "      'name': 'args'},\n",
       "     {'$ref': '#/parameters/preferParams'}],\n",
       "    'responses': {'200': {'description': 'OK'}}}},\n",
       "  '/rpc/ben_rows': {'post': {'tags': ['(rpc) ben_rows'],\n",
       "    'produces': ['application/json', 'application/vnd.pgrst.object+json'],\n",
       "    'parameters': [{'required': True,\n",
       "      'schema': {'required': ['v_tbl'],\n",
       "       'type': 'object',\n",
       "       'properties': {'v_tbl': {'format': 'character varying',\n",
       "         'type': 'string'}}},\n",
       "      'in': 'body',\n",
       "      'name': 'args'},\n",
       "     {'$ref': '#/parameters/preferParams'}],\n",
       "    'responses': {'200': {'description': 'OK'}}}},\n",
       "  '/rpc/id2key': {'post': {'tags': ['(rpc) id2key'],\n",
       "    'produces': ['application/json', 'application/vnd.pgrst.object+json'],\n",
       "    'parameters': [{'required': True,\n",
       "      'schema': {'required': ['input'],\n",
       "       'type': 'object',\n",
       "       'properties': {'input': {'format': 'character varying',\n",
       "         'type': 'string'}}},\n",
       "      'in': 'body',\n",
       "      'name': 'args'},\n",
       "     {'$ref': '#/parameters/preferParams'}],\n",
       "    'responses': {'200': {'description': 'OK'}}}},\n",
       "  '/rpc/smiles2key': {'post': {'tags': ['(rpc) smiles2key'],\n",
       "    'produces': ['application/json', 'application/vnd.pgrst.object+json'],\n",
       "    'parameters': [{'required': True,\n",
       "      'schema': {'required': ['input'],\n",
       "       'type': 'object',\n",
       "       'properties': {'input': {'format': 'character varying',\n",
       "         'type': 'string'}}},\n",
       "      'in': 'body',\n",
       "      'name': 'args'},\n",
       "     {'$ref': '#/parameters/preferParams'}],\n",
       "    'responses': {'200': {'description': 'OK'}}}},\n",
       "  '/rpc/benmd5': {'post': {'tags': ['(rpc) benmd5'],\n",
       "    'produces': ['application/json', 'application/vnd.pgrst.object+json'],\n",
       "    'parameters': [{'required': True,\n",
       "      'schema': {'required': ['input'],\n",
       "       'type': 'object',\n",
       "       'properties': {'input': {'format': 'character varying',\n",
       "         'type': 'string'}}},\n",
       "      'in': 'body',\n",
       "      'name': 'args'},\n",
       "     {'$ref': '#/parameters/preferParams'}],\n",
       "    'responses': {'200': {'description': 'OK'}}}},\n",
       "  '/rpc/id2smiles': {'post': {'tags': ['(rpc) id2smiles'],\n",
       "    'produces': ['application/json', 'application/vnd.pgrst.object+json'],\n",
       "    'parameters': [{'required': True,\n",
       "      'schema': {'required': ['input'],\n",
       "       'type': 'object',\n",
       "       'properties': {'input': {'format': 'character varying',\n",
       "         'type': 'string'}}},\n",
       "      'in': 'body',\n",
       "      'name': 'args'},\n",
       "     {'$ref': '#/parameters/preferParams'}],\n",
       "    'responses': {'200': {'description': 'OK'}}}},\n",
       "  '/rpc/smiles2inchi': {'post': {'tags': ['(rpc) smiles2inchi'],\n",
       "    'produces': ['application/json', 'application/vnd.pgrst.object+json'],\n",
       "    'parameters': [{'required': True,\n",
       "      'schema': {'required': ['input'],\n",
       "       'type': 'object',\n",
       "       'properties': {'input': {'format': 'character varying',\n",
       "         'type': 'string'}}},\n",
       "      'in': 'body',\n",
       "      'name': 'args'},\n",
       "     {'$ref': '#/parameters/preferParams'}],\n",
       "    'responses': {'200': {'description': 'OK'}}}},\n",
       "  '/rpc/id2inchi': {'post': {'tags': ['(rpc) id2inchi'],\n",
       "    'produces': ['application/json', 'application/vnd.pgrst.object+json'],\n",
       "    'parameters': [{'required': True,\n",
       "      'schema': {'required': ['input'],\n",
       "       'type': 'object',\n",
       "       'properties': {'input': {'format': 'character varying',\n",
       "         'type': 'string'}}},\n",
       "      'in': 'body',\n",
       "      'name': 'args'},\n",
       "     {'$ref': '#/parameters/preferParams'}],\n",
       "    'responses': {'200': {'description': 'OK'}}}},\n",
       "  '/rpc/smiles2id': {'post': {'tags': ['(rpc) smiles2id'],\n",
       "    'produces': ['application/json', 'application/vnd.pgrst.object+json'],\n",
       "    'parameters': [{'required': True,\n",
       "      'schema': {'required': ['input'],\n",
       "       'type': 'object',\n",
       "       'properties': {'input': {'format': 'character varying',\n",
       "         'type': 'string'}}},\n",
       "      'in': 'body',\n",
       "      'name': 'args'},\n",
       "     {'$ref': '#/parameters/preferParams'}],\n",
       "    'responses': {'200': {'description': 'OK'}}}}},\n",
       " 'definitions': {'test': {'properties': {'id': {'maxLength': 512,\n",
       "     'format': 'character varying',\n",
       "     'type': 'string'},\n",
       "    'file': {'maxLength': 100,\n",
       "     'format': 'character varying',\n",
       "     'type': 'string'},\n",
       "    'line': {'format': 'integer', 'type': 'integer'}},\n",
       "   'type': 'object'},\n",
       "  'whoami': {'properties': {'current_user': {'format': 'name',\n",
       "     'type': 'string'}},\n",
       "   'type': 'object'}},\n",
       " 'parameters': {'preferParams': {'name': 'Prefer',\n",
       "   'description': 'Preference',\n",
       "   'required': False,\n",
       "   'in': 'header',\n",
       "   'type': 'string',\n",
       "   'enum': ['params=single-object']},\n",
       "  'preferReturn': {'name': 'Prefer',\n",
       "   'description': 'Preference',\n",
       "   'required': False,\n",
       "   'in': 'header',\n",
       "   'type': 'string',\n",
       "   'enum': ['return=representation', 'return=minimal', 'return=none']},\n",
       "  'preferCount': {'name': 'Prefer',\n",
       "   'description': 'Preference',\n",
       "   'required': False,\n",
       "   'in': 'header',\n",
       "   'type': 'string',\n",
       "   'enum': ['count=none']},\n",
       "  'select': {'name': 'select',\n",
       "   'description': 'Filtering Columns',\n",
       "   'required': False,\n",
       "   'in': 'query',\n",
       "   'type': 'string'},\n",
       "  'on_conflict': {'name': 'on_conflict',\n",
       "   'description': 'On Conflict',\n",
       "   'required': False,\n",
       "   'in': 'query',\n",
       "   'type': 'string'},\n",
       "  'order': {'name': 'order',\n",
       "   'description': 'Ordering',\n",
       "   'required': False,\n",
       "   'in': 'query',\n",
       "   'type': 'string'},\n",
       "  'range': {'name': 'Range',\n",
       "   'description': 'Limiting and Pagination',\n",
       "   'required': False,\n",
       "   'in': 'header',\n",
       "   'type': 'string'},\n",
       "  'rangeUnit': {'name': 'Range-Unit',\n",
       "   'description': 'Limiting and Pagination',\n",
       "   'required': False,\n",
       "   'default': 'items',\n",
       "   'in': 'header',\n",
       "   'type': 'string'},\n",
       "  'offset': {'name': 'offset',\n",
       "   'description': 'Limiting and Pagination',\n",
       "   'required': False,\n",
       "   'in': 'query',\n",
       "   'type': 'string'},\n",
       "  'limit': {'name': 'limit',\n",
       "   'description': 'Limiting and Pagination',\n",
       "   'required': False,\n",
       "   'in': 'query',\n",
       "   'type': 'string'},\n",
       "  'body.test': {'name': 'test',\n",
       "   'description': 'test',\n",
       "   'required': False,\n",
       "   'schema': {'$ref': '#/definitions/test'},\n",
       "   'in': 'body'},\n",
       "  'rowFilter.test.id': {'name': 'id',\n",
       "   'required': False,\n",
       "   'format': 'character varying',\n",
       "   'in': 'query',\n",
       "   'type': 'string'},\n",
       "  'rowFilter.test.file': {'name': 'file',\n",
       "   'required': False,\n",
       "   'format': 'character varying',\n",
       "   'in': 'query',\n",
       "   'type': 'string'},\n",
       "  'rowFilter.test.line': {'name': 'line',\n",
       "   'required': False,\n",
       "   'format': 'integer',\n",
       "   'in': 'query',\n",
       "   'type': 'string'},\n",
       "  'body.whoami': {'name': 'whoami',\n",
       "   'description': 'whoami',\n",
       "   'required': False,\n",
       "   'schema': {'$ref': '#/definitions/whoami'},\n",
       "   'in': 'body'},\n",
       "  'rowFilter.whoami.current_user': {'name': 'current_user',\n",
       "   'required': False,\n",
       "   'format': 'name',\n",
       "   'in': 'query',\n",
       "   'type': 'string'}},\n",
       " 'externalDocs': {'url': 'https://postgrest.org/en/v7.0/api.html',\n",
       "  'description': 'PostgREST Documentation'}}"
      ]
     },
     "execution_count": 9,
     "metadata": {},
     "output_type": "execute_result"
    }
   ],
   "source": [
    "cl.request('')"
   ]
  }
 ],
 "metadata": {
  "kernelspec": {
   "display_name": "Python 3",
   "language": "python",
   "name": "python3"
  },
  "language_info": {
   "codemirror_mode": {
    "name": "ipython",
    "version": 3
   },
   "file_extension": ".py",
   "mimetype": "text/x-python",
   "name": "python",
   "nbconvert_exporter": "python",
   "pygments_lexer": "ipython3",
   "version": "3.7.5"
  }
 },
 "nbformat": 4,
 "nbformat_minor": 4
}
